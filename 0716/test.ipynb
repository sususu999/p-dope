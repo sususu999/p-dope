{
 "cells": [
  {
   "cell_type": "code",
   "execution_count": null,
   "id": "d05d3049",
   "metadata": {},
   "outputs": [],
   "source": [
    "print(\"hello Wordld\")"
   ]
  }
 ],
 "metadata": {
  "kernelspec": {
   "display_name": "Python 3",
   "language": "python",
   "name": "python3"
  },
  "language_info": {
   "name": "python",
   "version": "3.13.5"
  }
 },
 "nbformat": 4,
 "nbformat_minor": 5
}
