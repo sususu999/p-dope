{
 "cells": [
  {
   "cell_type": "code",
   "execution_count": 2,
   "id": "cd40c64b",
   "metadata": {},
   "outputs": [
    {
     "ename": "ModuleNotFoundError",
     "evalue": "No module named 'sklearn'",
     "output_type": "error",
     "traceback": [
      "\u001b[31m---------------------------------------------------------------------------\u001b[39m",
      "\u001b[31mModuleNotFoundError\u001b[39m                       Traceback (most recent call last)",
      "\u001b[36mCell\u001b[39m\u001b[36m \u001b[39m\u001b[32mIn[2]\u001b[39m\u001b[32m, line 2\u001b[39m\n\u001b[32m      1\u001b[39m \u001b[38;5;28;01mimport\u001b[39;00m\u001b[38;5;250m \u001b[39m\u001b[34;01mpandas\u001b[39;00m\u001b[38;5;250m \u001b[39m\u001b[38;5;28;01mas\u001b[39;00m\u001b[38;5;250m \u001b[39m\u001b[34;01mpd\u001b[39;00m\n\u001b[32m----> \u001b[39m\u001b[32m2\u001b[39m \u001b[38;5;28;01mfrom\u001b[39;00m\u001b[38;5;250m \u001b[39m\u001b[34;01msklearn\u001b[39;00m\u001b[34;01m.\u001b[39;00m\u001b[34;01mlinear_model\u001b[39;00m\u001b[38;5;250m \u001b[39m\u001b[38;5;28;01mimport\u001b[39;00m LinearRegression\n\u001b[32m      3\u001b[39m \u001b[38;5;28;01mimport\u001b[39;00m\u001b[38;5;250m \u001b[39m\u001b[34;01mnumpy\u001b[39;00m\u001b[38;5;250m \u001b[39m\u001b[38;5;28;01mas\u001b[39;00m\u001b[38;5;250m \u001b[39m\u001b[34;01mnp\u001b[39;00m\n\u001b[32m      5\u001b[39m \u001b[38;5;66;03m# Excelから読み込み\u001b[39;00m\n",
      "\u001b[31mModuleNotFoundError\u001b[39m: No module named 'sklearn'"
     ]
    }
   ],
   "source": [
    "import pandas as pd\n",
    "from sklearn.linear_model import LinearRegression\n",
    "import numpy as np\n",
    "\n",
    "# Excelから読み込み\n",
    "df = pd.read_excel(\"test.xlsx\", sheet_name=\"Sheet1\")\n",
    "\n",
    "# 特徴量と目的変数\n",
    "X = df[['濃度']]\n",
    "y1 = df['1回目']\n",
    "y2 = df['2回目']\n",
    "y3 = df['3回目']\n",
    "\n",
    "# 線形回帰モデルの学習\n",
    "model1 = LinearRegression().fit(X, y1)\n",
    "model2 = LinearRegression().fit(X, y2)\n",
    "model3 = LinearRegression().fit(X, y3)\n",
    "\n",
    "# 濃度を100～80%まで1%刻みで生成\n",
    "densities = np.arange(100, 79, -1).reshape(-1, 1)\n",
    "\n",
    "# 各濃度で予測\n",
    "pred1 = model1.predict(densities)\n",
    "pred2 = model2.predict(densities)\n",
    "pred3 = model3.predict(densities)\n",
    "\n",
    "# 結果をデータフレームにまとめる\n",
    "result_df = pd.DataFrame({\n",
    "    '濃度': densities.flatten(),\n",
    "    '1回目予測': pred1,\n",
    "    '2回目予測': pred2,\n",
    "    '3回目予測': pred3\n",
    "})\n",
    "\n",
    "# CSVに保存\n",
    "result_df.to_csv(\"prediction_80_to_100.csv\", index=False, encoding='utf-8-sig')\n",
    "\n",
    "print(\"予測結果を 'prediction_80_to_100.csv' に保存しました。\")\n",
    "\n"
   ]
  },
  {
   "cell_type": "code",
   "execution_count": null,
   "id": "540c91c0",
   "metadata": {},
   "outputs": [
    {
     "name": "stdout",
     "output_type": "stream",
     "text": [
      "予測と実測の比較結果を 'compare_prediction_actual.csv' に保存しました。\n"
     ]
    },
    {
     "name": "stderr",
     "output_type": "stream",
     "text": [
      "c:\\Users\\katahira susumu\\AppData\\Local\\Programs\\Python\\Python313\\Lib\\site-packages\\sklearn\\utils\\validation.py:2749: UserWarning: X does not have valid feature names, but LinearRegression was fitted with feature names\n",
      "  warnings.warn(\n",
      "c:\\Users\\katahira susumu\\AppData\\Local\\Programs\\Python\\Python313\\Lib\\site-packages\\sklearn\\utils\\validation.py:2749: UserWarning: X does not have valid feature names, but LinearRegression was fitted with feature names\n",
      "  warnings.warn(\n",
      "c:\\Users\\katahira susumu\\AppData\\Local\\Programs\\Python\\Python313\\Lib\\site-packages\\sklearn\\utils\\validation.py:2749: UserWarning: X does not have valid feature names, but LinearRegression was fitted with feature names\n",
      "  warnings.warn(\n"
     ]
    }
   ],
   "source": [
    "import pandas as pd\n",
    "from sklearn.linear_model import LinearRegression\n",
    "import numpy as np\n",
    "\n",
    "# Excelからデータ読み込み\n",
    "df = pd.read_excel(\"test.xlsx\", sheet_name=\"Sheet1\")\n",
    "\n",
    "# 特徴量と目的変数\n",
    "X = df[['濃度']]\n",
    "y1 = df['1回目']\n",
    "y2 = df['2回目']\n",
    "y3 = df['3回目']\n",
    "\n",
    "# 線形回帰モデルの学習\n",
    "model1 = LinearRegression().fit(X, y1)\n",
    "model2 = LinearRegression().fit(X, y2)\n",
    "model3 = LinearRegression().fit(X, y3)\n",
    "\n",
    "# 濃度を80〜100で1刻み\n",
    "densities = np.arange(80, 101).reshape(-1, 1)\n",
    "\n",
    "# 予測\n",
    "pred1 = model1.predict(densities)\n",
    "pred2 = model2.predict(densities)\n",
    "pred3 = model3.predict(densities)\n",
    "\n",
    "# 予測結果のDataFrame\n",
    "pred_df = pd.DataFrame({\n",
    "    '濃度': densities.flatten(),\n",
    "    '1回目_予測': pred1,\n",
    "    '2回目_予測': pred2,\n",
    "    '3回目_予測': pred3\n",
    "})\n",
    "\n",
    "# 実測値を濃度ごとに平均してまとめる（重複行があるため）\n",
    "actual_df = df.groupby('濃度')[['1回目', '2回目', '3回目']].mean().reset_index()\n",
    "actual_df.columns = ['濃度', '1回目_実測', '2回目_実測', '3回目_実測']\n",
    "\n",
    "# 予測と実測を結合（濃度でマージ）\n",
    "merged = pd.merge(pred_df, actual_df, on='濃度', how='left')\n",
    "\n",
    "# CSVに保存\n",
    "merged.to_csv(\"compare_prediction_actual.csv\", index=False, encoding='utf-8-sig')\n",
    "\n",
    "print(\"予測と実測の比較結果を 'compare_prediction_actual.csv' に保存しました。\")\n"
   ]
  }
 ],
 "metadata": {
  "kernelspec": {
   "display_name": "Python 3",
   "language": "python",
   "name": "python3"
  },
  "language_info": {
   "codemirror_mode": {
    "name": "ipython",
    "version": 3
   },
   "file_extension": ".py",
   "mimetype": "text/x-python",
   "name": "python",
   "nbconvert_exporter": "python",
   "pygments_lexer": "ipython3",
   "version": "3.13.3"
  }
 },
 "nbformat": 4,
 "nbformat_minor": 5
}
