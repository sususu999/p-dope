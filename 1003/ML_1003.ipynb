{
 "cells": [
  {
   "cell_type": "code",
   "execution_count": 17,
   "id": "4dc7b086",
   "metadata": {},
   "outputs": [],
   "source": [
    "import pandas as pd\n",
    "import numpy as np\n",
    "import matplotlib.pyplot as plt\n",
    "import seaborn as sns #必要なライブラリをインポート（使えるようにする）\n",
    "import itertools\n",
    "from sklearn.pipeline import Pipeline\n",
    "from sklearn.preprocessing import PolynomialFeatures, StandardScaler\n",
    "from sklearn.linear_model import LinearRegression\n",
    "from sklearn.ensemble import RandomForestRegressor, GradientBoostingRegressor\n",
    "from sklearn.svm import SVR\n",
    "from sklearn.model_selection import train_test_split, cross_val_score\n"
   ]
  },
  {
   "cell_type": "code",
   "execution_count": 18,
   "id": "df8e0a91",
   "metadata": {},
   "outputs": [],
   "source": [
    "#sklearnの線形回帰モデルをインポート\n"
   ]
  },
  {
   "cell_type": "code",
   "execution_count": 19,
   "id": "65948dcc",
   "metadata": {},
   "outputs": [],
   "source": [
    "#データを学習用とテスト用に分割するための関数をインポート\n"
   ]
  },
  {
   "cell_type": "code",
   "execution_count": 20,
   "id": "b90d7ce1",
   "metadata": {},
   "outputs": [],
   "source": [
    "df = pd.read_excel(\"result_seebeck_2.xlsx\") #実験結果を読み込んで、dfという変数に格納\n"
   ]
  },
  {
   "cell_type": "code",
   "execution_count": 21,
   "id": "b4a24082",
   "metadata": {},
   "outputs": [],
   "source": [
    "df.columns = ['halfgold_ratio', 'doping_concentration', 'resistance_reduction'] #列名が日本語になっているので、英語に変更\n"
   ]
  },
  {
   "cell_type": "code",
   "execution_count": 22,
   "id": "56310104",
   "metadata": {},
   "outputs": [],
   "source": [
    "# 前処理: 型と欠損の確認\n",
    "df['halfgold_ratio'] = pd.to_numeric(df['halfgold_ratio'], errors='coerce')\n",
    "df['doping_concentration'] = pd.to_numeric(df['doping_concentration'], errors='coerce')\n",
    "df['resistance_reduction'] = pd.to_numeric(df['resistance_reduction'], errors='coerce')\n",
    "df = df.dropna().reset_index(drop=True)\n",
    "\n",
    "# 説明変数・目的変数\n",
    "X = df[['halfgold_ratio','doping_concentration']]\n",
    "y = df['resistance_reduction']\n",
    "\n",
    "# 分割\n",
    "X_train, X_test, y_train, y_test = train_test_split(X, y, test_size=0.2, random_state=1)\n",
    "\n",
    "# モデル定義\n",
    "pipe_poly = Pipeline([\n",
    "    ('poly', PolynomialFeatures(degree=3, include_bias=False)),\n",
    "    ('scaler', StandardScaler()),\n",
    "    ('lr', LinearRegression())\n",
    "])\n",
    "rf = RandomForestRegressor(n_estimators=300, random_state=42, n_jobs=-1)\n",
    "gbr = GradientBoostingRegressor(n_estimators=300, learning_rate=0.05, max_depth=3, random_state=42)\n",
    "svr_pipe = Pipeline([('scaler', StandardScaler()), ('svr', SVR(kernel='rbf', C=10, epsilon=0.01))])\n",
    "\n",
    "# 学習（RF/GBoost は interaction を入れて学習）\n",
    "X_train2 = X_train.copy()\n",
    "X_test2  = X_test.copy()\n",
    "X_train2['interaction'] = X_train2['halfgold_ratio'] * X_train2['doping_concentration']\n",
    "X_test2['interaction']  = X_test2['halfgold_ratio'] * X_test2['doping_concentration']\n",
    "\n",
    "pipe_poly.fit(X_train, y_train)\n",
    "rf.fit(X_train2, y_train)\n",
    "gbr.fit(X_train2, y_train)\n",
    "svr_pipe.fit(X_train, y_train)\n",
    "\n",
    "# 評価（テスト R2 と CV）\n",
    "print(\"poly test R2:\", pipe_poly.score(X_test, y_test))\n",
    "print(\"rf test R2:\", rf.score(X_test2, y_test))\n",
    "print(\"gbr test R2:\", gbr.score(X_test2, y_test))\n",
    "print(\"svr test R2:\", svr_pipe.score(X_test, y_test))\n",
    "print(\"rf CV R2 (5):\", cross_val_score(rf, pd.concat([X_train2, X_test2]), pd.concat([y_train, y_test]), cv=5, scoring='r2').mean())\n",
    "\n",
    "# 予測用グリッド作成\n",
    "halfgold_vals = list(range(100, -1, -10))   # 100,90,...,0\n",
    "doping_vals = list(range(0, 17, 1))         # 0..16 step 1\n",
    "pred_grid = pd.DataFrame(list(itertools.product(halfgold_vals, doping_vals)),\n",
    "                         columns=['halfgold_ratio','doping_concentration'])\n",
    "\n",
    "# interaction を作る（RF/GBoost 用）\n",
    "pred_grid['interaction'] = pred_grid['halfgold_ratio'] * pred_grid['doping_concentration']\n",
    "\n",
    "# 予測列を追加\n",
    "pred_grid['predicted_poly'] = pipe_poly.predict(pred_grid[['halfgold_ratio','doping_concentration']])\n",
    "pred_grid['predicted_rf']   = rf.predict(pred_grid[['halfgold_ratio','doping_concentration','interaction']])\n",
    "pred_grid['predicted_gbr']  = gbr.predict(pred_grid[['halfgold_ratio','doping_concentration','interaction']])\n",
    "pred_grid['predicted_svr']  = svr_pipe.predict(pred_grid[['halfgold_ratio','doping_concentration']])\n",
    "\n",
    "# 結果保存\n",
    "out_path = \"1003/predictions_nonlin_models.xlsx\"\n",
    "pred_grid.to_excel(out_path, index=False)\n",
    "print(f\"保存しました: {out_path}\")\n"
   ]
  },
  {
   "cell_type": "code",
   "execution_count": 23,
   "id": "7a374d5b",
   "metadata": {},
   "outputs": [],
   "source": [
    "# 学習用とテスト用にデータを分割（例: 80%学習, 20%テスト）\n"
   ]
  }
 ],
 "metadata": {
  "kernelspec": {
   "display_name": "Python 3",
   "language": "python",
   "name": "python3"
  },
  "language_info": {
   "codemirror_mode": {
    "name": "ipython",
    "version": 3
   },
   "file_extension": ".py",
   "mimetype": "text/x-python",
   "name": "python",
   "nbconvert_exporter": "python",
   "pygments_lexer": "ipython3",
   "version": "3.13.3"
  }
 },
 "nbformat": 4,
 "nbformat_minor": 5
}
